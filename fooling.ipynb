{
 "cells": [
  {
   "cell_type": "markdown",
   "metadata": {},
   "source": [
    "<h2>Imports and constants</h2>"
   ]
  },
  {
   "cell_type": "code",
   "execution_count": 1,
   "metadata": {},
   "outputs": [],
   "source": [
    "import pandas as pd\n",
    "%matplotlib inline\n",
    "import cartopy.crs as ccrs\n",
    "import matplotlib.pyplot as plt\n",
    "import numpy as np"
   ]
  },
  {
   "cell_type": "code",
   "execution_count": 4,
   "metadata": {},
   "outputs": [],
   "source": [
    "data_path = 'data/'"
   ]
  },
  {
   "cell_type": "markdown",
   "metadata": {},
   "source": [
    "<h2>Functions</h2>"
   ]
  },
  {
   "cell_type": "code",
   "execution_count": 1,
   "metadata": {},
   "outputs": [],
   "source": [
    "def plot_cities(lons, lats):\n",
    "    plt.figure(figsize=(8,8))\n",
    "    ax = plt.axes(projection=ccrs.PlateCarree())\n",
    "    #ax = plt.axes(projection=ccrs.EuroPP())\n",
    "    ax.stock_img()\n",
    "    #ax.coastlines()\n",
    "    plt.scatter(lons, lats,\n",
    "             color=\"blue\", marker='o',\n",
    "             transform=ccrs.Geodetic(),\n",
    "             )\n",
    "    plt.show()"
   ]
  },
  {
   "cell_type": "code",
   "execution_count": 3,
   "metadata": {},
   "outputs": [],
   "source": [
    "#plot_cities(new_df['Longitude'], new_df['Latitude'])"
   ]
  },
  {
   "cell_type": "markdown",
   "metadata": {},
   "source": [
    "<h2>Merging world cities and cost of living index datasets</h2>"
   ]
  },
  {
   "cell_type": "code",
   "execution_count": null,
   "metadata": {},
   "outputs": [],
   "source": [
    "# Load world cities\n",
    "cities = pd.read_csv(data_path + 'worldcitiespop.csv', sep=\",\")"
   ]
  },
  {
   "cell_type": "code",
   "execution_count": 6,
   "metadata": {},
   "outputs": [],
   "source": [
    "# Load cost of living index\n",
    "coli = pd.read_csv(data_path + 'Cost_of_living_index.csv', sep=\",\")"
   ]
  },
  {
   "cell_type": "code",
   "execution_count": 8,
   "metadata": {},
   "outputs": [],
   "source": [
    "# Parse original \"City\" column to \"City\" and \"Country\" columns\n",
    "# TODO the USA countries are in \"NY, New York\" now.\n",
    "coli[\"City\"], coli[\"Country\"] = coli[\"City\"].str.lower().str.split(\", \", 1).str"
   ]
  },
  {
   "cell_type": "code",
   "execution_count": 15,
   "metadata": {},
   "outputs": [],
   "source": [
    "# Take only first 2000 most populated cities and drop any duplicates in city names.\n",
    "new_cities = cities.sort_values(\"Population\", ascending=False)[0:2000].drop_duplicates(\"City\")"
   ]
  },
  {
   "cell_type": "code",
   "execution_count": null,
   "metadata": {},
   "outputs": [],
   "source": [
    "# Check how many cities we have now.\n",
    "new_cities.shape"
   ]
  },
  {
   "cell_type": "code",
   "execution_count": 20,
   "metadata": {},
   "outputs": [],
   "source": [
    "# Merge new cities and cost of living index datasets.\n",
    "new_df = pd.merge(new_cities, coli, on=\"City\", how=\"inner\")\n",
    "new_df.shape"
   ]
  }
 ],
 "metadata": {
  "kernelspec": {
   "display_name": "Python 2",
   "language": "python",
   "name": "python2"
  },
  "language_info": {
   "codemirror_mode": {
    "name": "ipython",
    "version": 2
   },
   "file_extension": ".py",
   "mimetype": "text/x-python",
   "name": "python",
   "nbconvert_exporter": "python",
   "pygments_lexer": "ipython2",
   "version": "2.7.16"
  }
 },
 "nbformat": 4,
 "nbformat_minor": 2
}
