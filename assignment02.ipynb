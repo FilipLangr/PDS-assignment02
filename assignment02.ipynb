{
 "cells": [
  {
   "cell_type": "markdown",
   "metadata": {},
   "source": [
    "<h2>Imports and constants</h2>"
   ]
  },
  {
   "cell_type": "code",
   "execution_count": 1,
   "metadata": {},
   "outputs": [],
   "source": [
    "import pandas as pd\n",
    "%matplotlib inline\n",
    "import cartopy.crs as ccrs\n",
    "import matplotlib.pyplot as plt\n",
    "import numpy as np"
   ]
  },
  {
   "cell_type": "code",
   "execution_count": 2,
   "metadata": {},
   "outputs": [],
   "source": [
    "data_path = 'data/'"
   ]
  },
  {
   "cell_type": "markdown",
   "metadata": {},
   "source": [
    "<h2>Functions</h2>"
   ]
  },
  {
   "cell_type": "code",
   "execution_count": 3,
   "metadata": {},
   "outputs": [],
   "source": [
    "def plot_cities(lons, lats):\n",
    "    plt.figure(figsize=(8,8))\n",
    "    ax = plt.axes(projection=ccrs.PlateCarree())\n",
    "    #ax = plt.axes(projection=ccrs.EuroPP())\n",
    "    ax.stock_img()\n",
    "    #ax.coastlines()\n",
    "    plt.scatter(lons, lats,\n",
    "             color=\"blue\", marker='o',\n",
    "             transform=ccrs.Geodetic(),\n",
    "             )\n",
    "    plt.show()"
   ]
  },
  {
   "cell_type": "code",
   "execution_count": 4,
   "metadata": {},
   "outputs": [],
   "source": [
    "#plot_cities(new_df['Longitude'], new_df['Latitude'])"
   ]
  },
  {
   "cell_type": "markdown",
   "metadata": {},
   "source": [
    "<h2>Merging world cities and cost of living index datasets</h2>"
   ]
  },
  {
   "cell_type": "code",
   "execution_count": 5,
   "metadata": {},
   "outputs": [
    {
     "name": "stderr",
     "output_type": "stream",
     "text": [
      "/home/filip/anaconda2/envs/geo/lib/python2.7/site-packages/IPython/core/interactiveshell.py:2714: DtypeWarning: Columns (3) have mixed types. Specify dtype option on import or set low_memory=False.\n",
      "  interactivity=interactivity, compiler=compiler, result=result)\n"
     ]
    }
   ],
   "source": [
    "# Load world cities\n",
    "cities = pd.read_csv(data_path + 'worldcitiespop.csv', sep=\",\")"
   ]
  },
  {
   "cell_type": "code",
   "execution_count": 6,
   "metadata": {},
   "outputs": [],
   "source": [
    "# Load cost of living index\n",
    "coli = pd.read_csv(data_path + 'Cost_of_living_index.csv', sep=\",\")"
   ]
  },
  {
   "cell_type": "code",
   "execution_count": 7,
   "metadata": {},
   "outputs": [],
   "source": [
    "# Parse original \"City\" column to \"City\" and \"Country\" columns\n",
    "# TODO the USA countries are in \"NY, New York\" now.\n",
    "coli[\"City\"], coli[\"Country\"] = coli[\"City\"].str.lower().str.split(\", \", 1).str"
   ]
  },
  {
   "cell_type": "code",
   "execution_count": 8,
   "metadata": {},
   "outputs": [],
   "source": [
    "# Take only first 2000 most populated cities and drop any duplicates in city names.\n",
    "new_cities = cities.sort_values(\"Population\", ascending=False)[0:2000].drop_duplicates(\"City\")"
   ]
  },
  {
   "cell_type": "code",
   "execution_count": 9,
   "metadata": {},
   "outputs": [
    {
     "data": {
      "text/plain": [
       "(1969, 7)"
      ]
     },
     "execution_count": 9,
     "metadata": {},
     "output_type": "execute_result"
    }
   ],
   "source": [
    "# Check how many cities we have now.\n",
    "new_cities.shape"
   ]
  },
  {
   "cell_type": "code",
   "execution_count": 10,
   "metadata": {},
   "outputs": [
    {
     "data": {
      "text/plain": [
       "(394, 15)"
      ]
     },
     "execution_count": 10,
     "metadata": {},
     "output_type": "execute_result"
    }
   ],
   "source": [
    "# Merge new cities and cost of living index datasets.\n",
    "new_df = pd.merge(new_cities, coli, on=\"City\", how=\"inner\")\n",
    "new_df.shape"
   ]
  },
  {
   "cell_type": "code",
   "execution_count": 11,
   "metadata": {},
   "outputs": [
    {
     "name": "stderr",
     "output_type": "stream",
     "text": [
      "/home/filip/anaconda2/envs/geo/lib/python2.7/site-packages/pandas/core/frame.py:3781: SettingWithCopyWarning: \n",
      "A value is trying to be set on a copy of a slice from a DataFrame\n",
      "\n",
      "See the caveats in the documentation: http://pandas.pydata.org/pandas-docs/stable/indexing.html#indexing-view-versus-copy\n",
      "  return super(DataFrame, self).rename(**kwargs)\n"
     ]
    }
   ],
   "source": [
    "df = new_df[[\"City\", \"Country_y\", \"Population\", \"Latitude\", \"Longitude\", \"Cost of Living Plus Rent Index\", \"Local Purchasing Power Index\"]]\n",
    "df.rename(columns={\"Country_y\": \"Country\"}, inplace=True)"
   ]
  },
  {
   "cell_type": "code",
   "execution_count": 14,
   "metadata": {},
   "outputs": [
    {
     "data": {
      "text/html": [
       "<div>\n",
       "<style scoped>\n",
       "    .dataframe tbody tr th:only-of-type {\n",
       "        vertical-align: middle;\n",
       "    }\n",
       "\n",
       "    .dataframe tbody tr th {\n",
       "        vertical-align: top;\n",
       "    }\n",
       "\n",
       "    .dataframe thead th {\n",
       "        text-align: right;\n",
       "    }\n",
       "</style>\n",
       "<table border=\"1\" class=\"dataframe\">\n",
       "  <thead>\n",
       "    <tr style=\"text-align: right;\">\n",
       "      <th></th>\n",
       "      <th>City</th>\n",
       "      <th>Country</th>\n",
       "      <th>Population</th>\n",
       "      <th>Latitude</th>\n",
       "      <th>Longitude</th>\n",
       "      <th>Cost of Living Plus Rent Index</th>\n",
       "      <th>Local Purchasing Power Index</th>\n",
       "    </tr>\n",
       "  </thead>\n",
       "  <tbody>\n",
       "    <tr>\n",
       "      <th>0</th>\n",
       "      <td>tokyo</td>\n",
       "      <td>japan</td>\n",
       "      <td>31480498.0</td>\n",
       "      <td>35.685000</td>\n",
       "      <td>139.751389</td>\n",
       "      <td>61.89</td>\n",
       "      <td>113.09</td>\n",
       "    </tr>\n",
       "    <tr>\n",
       "      <th>1</th>\n",
       "      <td>shanghai</td>\n",
       "      <td>china</td>\n",
       "      <td>14608512.0</td>\n",
       "      <td>31.045556</td>\n",
       "      <td>121.399722</td>\n",
       "      <td>42.68</td>\n",
       "      <td>72.16</td>\n",
       "    </tr>\n",
       "    <tr>\n",
       "      <th>2</th>\n",
       "      <td>karachi</td>\n",
       "      <td>pakistan</td>\n",
       "      <td>11627378.0</td>\n",
       "      <td>24.905600</td>\n",
       "      <td>67.082200</td>\n",
       "      <td>15.50</td>\n",
       "      <td>36.66</td>\n",
       "    </tr>\n",
       "    <tr>\n",
       "      <th>3</th>\n",
       "      <td>delhi</td>\n",
       "      <td>india</td>\n",
       "      <td>10928270.0</td>\n",
       "      <td>28.666667</td>\n",
       "      <td>77.216667</td>\n",
       "      <td>19.23</td>\n",
       "      <td>77.75</td>\n",
       "    </tr>\n",
       "    <tr>\n",
       "      <th>4</th>\n",
       "      <td>manila</td>\n",
       "      <td>philippines</td>\n",
       "      <td>10443877.0</td>\n",
       "      <td>14.604200</td>\n",
       "      <td>120.982200</td>\n",
       "      <td>27.46</td>\n",
       "      <td>40.04</td>\n",
       "    </tr>\n",
       "    <tr>\n",
       "      <th>5</th>\n",
       "      <td>moscow</td>\n",
       "      <td>russia</td>\n",
       "      <td>10381288.0</td>\n",
       "      <td>55.752222</td>\n",
       "      <td>37.615556</td>\n",
       "      <td>37.33</td>\n",
       "      <td>59.51</td>\n",
       "    </tr>\n",
       "    <tr>\n",
       "      <th>6</th>\n",
       "      <td>seoul</td>\n",
       "      <td>south korea</td>\n",
       "      <td>10323448.0</td>\n",
       "      <td>37.598500</td>\n",
       "      <td>126.978300</td>\n",
       "      <td>58.79</td>\n",
       "      <td>102.63</td>\n",
       "    </tr>\n",
       "    <tr>\n",
       "      <th>7</th>\n",
       "      <td>sao paulo</td>\n",
       "      <td>brazil</td>\n",
       "      <td>10021437.0</td>\n",
       "      <td>-23.473293</td>\n",
       "      <td>-46.665803</td>\n",
       "      <td>31.11</td>\n",
       "      <td>41.16</td>\n",
       "    </tr>\n",
       "    <tr>\n",
       "      <th>8</th>\n",
       "      <td>istanbul</td>\n",
       "      <td>turkey</td>\n",
       "      <td>9797536.0</td>\n",
       "      <td>41.018611</td>\n",
       "      <td>28.964722</td>\n",
       "      <td>25.24</td>\n",
       "      <td>50.13</td>\n",
       "    </tr>\n",
       "    <tr>\n",
       "      <th>9</th>\n",
       "      <td>lagos</td>\n",
       "      <td>nigeria</td>\n",
       "      <td>8789133.0</td>\n",
       "      <td>6.453056</td>\n",
       "      <td>3.395833</td>\n",
       "      <td>31.86</td>\n",
       "      <td>19.41</td>\n",
       "    </tr>\n",
       "  </tbody>\n",
       "</table>\n",
       "</div>"
      ],
      "text/plain": [
       "        City      Country  Population   Latitude   Longitude  \\\n",
       "0      tokyo        japan  31480498.0  35.685000  139.751389   \n",
       "1   shanghai        china  14608512.0  31.045556  121.399722   \n",
       "2    karachi     pakistan  11627378.0  24.905600   67.082200   \n",
       "3      delhi        india  10928270.0  28.666667   77.216667   \n",
       "4     manila  philippines  10443877.0  14.604200  120.982200   \n",
       "5     moscow       russia  10381288.0  55.752222   37.615556   \n",
       "6      seoul  south korea  10323448.0  37.598500  126.978300   \n",
       "7  sao paulo       brazil  10021437.0 -23.473293  -46.665803   \n",
       "8   istanbul       turkey   9797536.0  41.018611   28.964722   \n",
       "9      lagos      nigeria   8789133.0   6.453056    3.395833   \n",
       "\n",
       "   Cost of Living Plus Rent Index  Local Purchasing Power Index  \n",
       "0                           61.89                        113.09  \n",
       "1                           42.68                         72.16  \n",
       "2                           15.50                         36.66  \n",
       "3                           19.23                         77.75  \n",
       "4                           27.46                         40.04  \n",
       "5                           37.33                         59.51  \n",
       "6                           58.79                        102.63  \n",
       "7                           31.11                         41.16  \n",
       "8                           25.24                         50.13  \n",
       "9                           31.86                         19.41  "
      ]
     },
     "execution_count": 14,
     "metadata": {},
     "output_type": "execute_result"
    }
   ],
   "source": [
    "df.head(10)"
   ]
  },
  {
   "cell_type": "code",
   "execution_count": 15,
   "metadata": {},
   "outputs": [
    {
     "data": {
      "text/plain": [
       "(394, 7)"
      ]
     },
     "execution_count": 15,
     "metadata": {},
     "output_type": "execute_result"
    }
   ],
   "source": [
    "df.shape"
   ]
  },
  {
   "cell_type": "markdown",
   "metadata": {},
   "source": [
    "<h2>TODO Merge other datasets to df</h2>"
   ]
  },
  {
   "cell_type": "code",
   "execution_count": null,
   "metadata": {},
   "outputs": [],
   "source": []
  }
 ],
 "metadata": {
  "kernelspec": {
   "display_name": "Python 2",
   "language": "python",
   "name": "python2"
  },
  "language_info": {
   "codemirror_mode": {
    "name": "ipython",
    "version": 2
   },
   "file_extension": ".py",
   "mimetype": "text/x-python",
   "name": "python",
   "nbconvert_exporter": "python",
   "pygments_lexer": "ipython2",
   "version": "2.7.16"
  }
 },
 "nbformat": 4,
 "nbformat_minor": 2
}
