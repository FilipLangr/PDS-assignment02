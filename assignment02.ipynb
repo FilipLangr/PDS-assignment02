{
 "cells": [
  {
   "cell_type": "markdown",
   "metadata": {},
   "source": [
    "<h2>Imports and constants</h2>"
   ]
  },
  {
   "cell_type": "code",
   "execution_count": 435,
   "metadata": {},
   "outputs": [],
   "source": [
    "import pandas as pd\n",
    "%matplotlib inline\n",
    "#import cartopy.crs as ccrs\n",
    "import matplotlib.pyplot as plt\n",
    "import numpy as np"
   ]
  },
  {
   "cell_type": "code",
   "execution_count": 436,
   "metadata": {},
   "outputs": [],
   "source": [
    "data_path = 'C:\\Users\\Jakob\\Desktop\\RMIT\\Practical Data Science\\Assignment 2\\\\'"
   ]
  },
  {
   "cell_type": "markdown",
   "metadata": {},
   "source": [
    "<h2>Functions</h2>"
   ]
  },
  {
   "cell_type": "code",
   "execution_count": 437,
   "metadata": {},
   "outputs": [],
   "source": [
    "#def plot_cities(lons, lats):\n",
    "#    plt.figure(figsize=(8,8))\n",
    "#    ax = plt.axes(projection=ccrs.PlateCarree())\n",
    "    #ax = plt.axes(projection=ccrs.EuroPP())\n",
    "#ax.stock_img()\n",
    "    #ax.coastlines()\n",
    "#    plt.scatter(lons, lats,\n",
    "#            color=\"blue\", marker='o',\n",
    "#             transform=ccrs.Geodetic(),\n",
    "#             )\n",
    "#    plt.show()"
   ]
  },
  {
   "cell_type": "code",
   "execution_count": 438,
   "metadata": {},
   "outputs": [],
   "source": [
    "#plot_cities(new_df['Longitude'], new_df['Latitude'])"
   ]
  },
  {
   "cell_type": "code",
   "execution_count": 439,
   "metadata": {},
   "outputs": [],
   "source": [
    "freedom = pd.read_csv(data_path + 'Happiness.csv', sep =',', decimal='.')"
   ]
  },
  {
   "cell_type": "code",
   "execution_count": 440,
   "metadata": {},
   "outputs": [],
   "source": [
    "freedom = freedom[['Country', 'Freedom']]"
   ]
  },
  {
   "cell_type": "code",
   "execution_count": 441,
   "metadata": {},
   "outputs": [],
   "source": [
    "freedom['Country'] = freedom['Country'].str.lower()"
   ]
  },
  {
   "cell_type": "markdown",
   "metadata": {},
   "source": [
    "<h2>Merging world cities and cost of living index datasets</h2>"
   ]
  },
  {
   "cell_type": "code",
   "execution_count": 443,
   "metadata": {},
   "outputs": [],
   "source": [
    "# Load world cities\n",
    "cities = pd.read_csv(data_path + 'worldcitiespop.csv', sep=\",\")"
   ]
  },
  {
   "cell_type": "code",
   "execution_count": 444,
   "metadata": {},
   "outputs": [],
   "source": [
    "# Load cost of living index\n",
    "coli = pd.read_csv(data_path + 'Cost_of_living_index.csv', sep=\",\")"
   ]
  },
  {
   "cell_type": "code",
   "execution_count": 445,
   "metadata": {},
   "outputs": [],
   "source": [
    "# Parse original \"City\" column to \"City\" and \"Country\" columns\n",
    "# TODO the USA countries are in \"NY, New York\" now.\n",
    "coli[\"City\"], coli[\"Country\"] = coli[\"City\"].str.lower().str.split(\", \", 1).str"
   ]
  },
  {
   "cell_type": "code",
   "execution_count": 446,
   "metadata": {},
   "outputs": [],
   "source": [
    "# Take only first 2000 most populated cities and drop any duplicates in city names.\n",
    "new_cities = cities.sort_values(\"Population\", ascending=False)[0:2000].drop_duplicates(\"City\")"
   ]
  },
  {
   "cell_type": "code",
   "execution_count": 447,
   "metadata": {},
   "outputs": [
    {
     "data": {
      "text/plain": [
       "(1969, 7)"
      ]
     },
     "execution_count": 447,
     "metadata": {},
     "output_type": "execute_result"
    }
   ],
   "source": [
    "# Check how many cities we have now.\n",
    "new_cities.shape"
   ]
  },
  {
   "cell_type": "code",
   "execution_count": 448,
   "metadata": {},
   "outputs": [
    {
     "data": {
      "text/plain": [
       "(394, 15)"
      ]
     },
     "execution_count": 448,
     "metadata": {},
     "output_type": "execute_result"
    }
   ],
   "source": [
    "# Merge new cities and cost of living index datasets.\n",
    "new_df = pd.merge(new_cities, coli, on=\"City\", how=\"inner\")\n",
    "new_df.shape"
   ]
  },
  {
   "cell_type": "code",
   "execution_count": 449,
   "metadata": {},
   "outputs": [],
   "source": [
    "df = new_df[[\"City\", \"Country_y\", \"Population\", \"Latitude\", \"Longitude\", \"Cost of Living Plus Rent Index\", \"Local Purchasing Power Index\"]]\n",
    "df.rename(columns={\"Country_y\": \"Country\"}, inplace=True)"
   ]
  },
  {
   "cell_type": "code",
   "execution_count": 450,
   "metadata": {},
   "outputs": [
    {
     "data": {
      "text/plain": [
       "(394, 7)"
      ]
     },
     "execution_count": 450,
     "metadata": {},
     "output_type": "execute_result"
    }
   ],
   "source": [
    "df.shape"
   ]
  },
  {
   "cell_type": "code",
   "execution_count": 451,
   "metadata": {},
   "outputs": [],
   "source": [
    "df = pd.merge(df, freedom, on='Country', how='inner')"
   ]
  },
  {
   "cell_type": "code",
   "execution_count": 452,
   "metadata": {},
   "outputs": [],
   "source": [
    "#import sys\n",
    "#!{sys.executable} -m pip install pycountry"
   ]
  },
  {
   "cell_type": "code",
   "execution_count": 453,
   "metadata": {},
   "outputs": [],
   "source": [
    "import pycountry"
   ]
  },
  {
   "cell_type": "code",
   "execution_count": 454,
   "metadata": {},
   "outputs": [],
   "source": [
    "wages = pd.read_csv(data_path + 'average_wages.csv', sep=',', decimal='.')"
   ]
  },
  {
   "cell_type": "code",
   "execution_count": 455,
   "metadata": {},
   "outputs": [],
   "source": [
    "wages = wages[wages['TIME'] == 2016].groupby('LOCATION', as_index=False).mean()"
   ]
  },
  {
   "cell_type": "code",
   "execution_count": 456,
   "metadata": {},
   "outputs": [],
   "source": [
    "wages = wages[['LOCATION', 'Value']]"
   ]
  },
  {
   "cell_type": "code",
   "execution_count": 457,
   "metadata": {},
   "outputs": [],
   "source": [
    "wages[\"Country\"] = wages[\"LOCATION\"].apply(lambda country_code: pycountry.countries.get(alpha_3=country_code).name.lower())"
   ]
  },
  {
   "cell_type": "code",
   "execution_count": 464,
   "metadata": {},
   "outputs": [],
   "source": [
    "wages.rename(columns = {'Value':'Wages'}, inplace=True)"
   ]
  },
  {
   "cell_type": "code",
   "execution_count": 466,
   "metadata": {},
   "outputs": [],
   "source": [
    "wages = wages[['Country', 'Wages']]"
   ]
  },
  {
   "cell_type": "code",
   "execution_count": 468,
   "metadata": {
    "scrolled": true
   },
   "outputs": [],
   "source": [
    "df = pd.merge(df, wages, on='Country', how='inner')"
   ]
  },
  {
   "cell_type": "code",
   "execution_count": 470,
   "metadata": {},
   "outputs": [
    {
     "data": {
      "text/html": [
       "<div>\n",
       "<style scoped>\n",
       "    .dataframe tbody tr th:only-of-type {\n",
       "        vertical-align: middle;\n",
       "    }\n",
       "\n",
       "    .dataframe tbody tr th {\n",
       "        vertical-align: top;\n",
       "    }\n",
       "\n",
       "    .dataframe thead th {\n",
       "        text-align: right;\n",
       "    }\n",
       "</style>\n",
       "<table border=\"1\" class=\"dataframe\">\n",
       "  <thead>\n",
       "    <tr style=\"text-align: right;\">\n",
       "      <th></th>\n",
       "      <th>City</th>\n",
       "      <th>Country</th>\n",
       "      <th>Population</th>\n",
       "      <th>Latitude</th>\n",
       "      <th>Longitude</th>\n",
       "      <th>Cost of Living Plus Rent Index</th>\n",
       "      <th>Local Purchasing Power Index</th>\n",
       "      <th>Freedom</th>\n",
       "      <th>Wages</th>\n",
       "    </tr>\n",
       "  </thead>\n",
       "  <tbody>\n",
       "    <tr>\n",
       "      <th>0</th>\n",
       "      <td>tokyo</td>\n",
       "      <td>japan</td>\n",
       "      <td>31480498.0</td>\n",
       "      <td>35.685000</td>\n",
       "      <td>139.751389</td>\n",
       "      <td>61.89</td>\n",
       "      <td>113.09</td>\n",
       "      <td>0.505626</td>\n",
       "      <td>39113</td>\n",
       "    </tr>\n",
       "    <tr>\n",
       "      <th>1</th>\n",
       "      <td>london</td>\n",
       "      <td>united kingdom</td>\n",
       "      <td>7421228.0</td>\n",
       "      <td>51.514125</td>\n",
       "      <td>-0.093689</td>\n",
       "      <td>76.10</td>\n",
       "      <td>100.22</td>\n",
       "      <td>0.508190</td>\n",
       "      <td>42835</td>\n",
       "    </tr>\n",
       "    <tr>\n",
       "      <th>2</th>\n",
       "      <td>birmingham</td>\n",
       "      <td>united kingdom</td>\n",
       "      <td>984336.0</td>\n",
       "      <td>52.466667</td>\n",
       "      <td>-1.916667</td>\n",
       "      <td>48.38</td>\n",
       "      <td>106.94</td>\n",
       "      <td>0.508190</td>\n",
       "      <td>42835</td>\n",
       "    </tr>\n",
       "    <tr>\n",
       "      <th>3</th>\n",
       "      <td>glasgow</td>\n",
       "      <td>united kingdom</td>\n",
       "      <td>610271.0</td>\n",
       "      <td>55.833333</td>\n",
       "      <td>-4.250000</td>\n",
       "      <td>48.04</td>\n",
       "      <td>121.47</td>\n",
       "      <td>0.508190</td>\n",
       "      <td>42835</td>\n",
       "    </tr>\n",
       "    <tr>\n",
       "      <th>4</th>\n",
       "      <td>belfast</td>\n",
       "      <td>united kingdom</td>\n",
       "      <td>585994.0</td>\n",
       "      <td>54.583333</td>\n",
       "      <td>-5.933333</td>\n",
       "      <td>43.58</td>\n",
       "      <td>100.69</td>\n",
       "      <td>0.508190</td>\n",
       "      <td>42835</td>\n",
       "    </tr>\n",
       "  </tbody>\n",
       "</table>\n",
       "</div>"
      ],
      "text/plain": [
       "         City         Country  Population   Latitude   Longitude  \\\n",
       "0       tokyo           japan  31480498.0  35.685000  139.751389   \n",
       "1      london  united kingdom   7421228.0  51.514125   -0.093689   \n",
       "2  birmingham  united kingdom    984336.0  52.466667   -1.916667   \n",
       "3     glasgow  united kingdom    610271.0  55.833333   -4.250000   \n",
       "4     belfast  united kingdom    585994.0  54.583333   -5.933333   \n",
       "\n",
       "   Cost of Living Plus Rent Index  Local Purchasing Power Index   Freedom  \\\n",
       "0                           61.89                        113.09  0.505626   \n",
       "1                           76.10                        100.22  0.508190   \n",
       "2                           48.38                        106.94  0.508190   \n",
       "3                           48.04                        121.47  0.508190   \n",
       "4                           43.58                        100.69  0.508190   \n",
       "\n",
       "   Wages  \n",
       "0  39113  \n",
       "1  42835  \n",
       "2  42835  \n",
       "3  42835  \n",
       "4  42835  "
      ]
     },
     "execution_count": 470,
     "metadata": {},
     "output_type": "execute_result"
    }
   ],
   "source": [
    "df.head()"
   ]
  },
  {
   "cell_type": "markdown",
   "metadata": {},
   "source": [
    "<h2>TODO Merge other datasets to df</h2>"
   ]
  },
  {
   "cell_type": "code",
   "execution_count": 460,
   "metadata": {},
   "outputs": [
    {
     "ename": "NameError",
     "evalue": "name 'path' is not defined",
     "output_type": "error",
     "traceback": [
      "\u001b[1;31m---------------------------------------------------------------------------\u001b[0m",
      "\u001b[1;31mNameError\u001b[0m                                 Traceback (most recent call last)",
      "\u001b[1;32m<ipython-input-460-b93650125bd4>\u001b[0m in \u001b[0;36m<module>\u001b[1;34m()\u001b[0m\n\u001b[1;32m----> 1\u001b[1;33m \u001b[0mtemperature\u001b[0m \u001b[1;33m=\u001b[0m \u001b[0mpd\u001b[0m\u001b[1;33m.\u001b[0m\u001b[0mread_csv\u001b[0m\u001b[1;33m(\u001b[0m\u001b[0mpath\u001b[0m \u001b[1;33m+\u001b[0m \u001b[1;34m'temperatures.csv'\u001b[0m\u001b[1;33m,\u001b[0m \u001b[0msep\u001b[0m\u001b[1;33m=\u001b[0m\u001b[1;34m','\u001b[0m\u001b[1;33m,\u001b[0m \u001b[0mdecimal\u001b[0m\u001b[1;33m=\u001b[0m\u001b[1;34m'.'\u001b[0m\u001b[1;33m)\u001b[0m\u001b[1;33m\u001b[0m\u001b[0m\n\u001b[0m",
      "\u001b[1;31mNameError\u001b[0m: name 'path' is not defined"
     ]
    }
   ],
   "source": [
    "temperature = pd.read_csv(path + 'temperatures.csv', sep=',', decimal='.')"
   ]
  },
  {
   "cell_type": "code",
   "execution_count": null,
   "metadata": {},
   "outputs": [],
   "source": [
    "temperature"
   ]
  },
  {
   "cell_type": "code",
   "execution_count": null,
   "metadata": {},
   "outputs": [],
   "source": [
    "temperature['dt'] = pd.to_datetime(temperature['dt'])"
   ]
  },
  {
   "cell_type": "code",
   "execution_count": null,
   "metadata": {},
   "outputs": [],
   "source": [
    "temperature.dtypes"
   ]
  },
  {
   "cell_type": "code",
   "execution_count": null,
   "metadata": {},
   "outputs": [],
   "source": [
    "temperature['year'] = temperature.dt.dt.year\n",
    "new_temperatures = temperature[temperature.year == 2012][['City', 'AverageTemperature']].groupby('City').mean()\n",
    "new_temperatures"
   ]
  },
  {
   "cell_type": "code",
   "execution_count": null,
   "metadata": {},
   "outputs": [],
   "source": []
  },
  {
   "cell_type": "code",
   "execution_count": null,
   "metadata": {},
   "outputs": [],
   "source": []
  }
 ],
 "metadata": {
  "kernelspec": {
   "display_name": "Python 2",
   "language": "python",
   "name": "python2"
  },
  "language_info": {
   "codemirror_mode": {
    "name": "ipython",
    "version": 2
   },
   "file_extension": ".py",
   "mimetype": "text/x-python",
   "name": "python",
   "nbconvert_exporter": "python",
   "pygments_lexer": "ipython2",
   "version": "2.7.15"
  }
 },
 "nbformat": 4,
 "nbformat_minor": 2
}
